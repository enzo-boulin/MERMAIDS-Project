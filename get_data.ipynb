{
 "cells": [
  {
   "cell_type": "code",
   "execution_count": 1,
   "metadata": {},
   "outputs": [],
   "source": [
    "import PyPDF2\n",
    "import re\n",
    "import os\n",
    "import numpy as np\n",
    "import matplotlib.pyplot as plt\n",
    "import pandas as pd\n",
    "from datetime import datetime, timedelta\n",
    "from matplotlib.dates import DateFormatter"
   ]
  },
  {
   "cell_type": "code",
   "execution_count": 2,
   "metadata": {},
   "outputs": [
    {
     "data": {
      "text/html": [
       "<div>\n",
       "<style scoped>\n",
       "    .dataframe tbody tr th:only-of-type {\n",
       "        vertical-align: middle;\n",
       "    }\n",
       "\n",
       "    .dataframe tbody tr th {\n",
       "        vertical-align: top;\n",
       "    }\n",
       "\n",
       "    .dataframe thead th {\n",
       "        text-align: right;\n",
       "    }\n",
       "</style>\n",
       "<table border=\"1\" class=\"dataframe\">\n",
       "  <thead>\n",
       "    <tr style=\"text-align: right;\">\n",
       "      <th></th>\n",
       "      <th>Event number</th>\n",
       "      <th>Picked arrival</th>\n",
       "      <th>Tag</th>\n",
       "      <th>Arrival type</th>\n",
       "      <th>IRIS Event ID</th>\n",
       "    </tr>\n",
       "  </thead>\n",
       "  <tbody>\n",
       "    <tr>\n",
       "      <th>0</th>\n",
       "      <td>1</td>\n",
       "      <td>2018-11-18 20:32:00.000</td>\n",
       "      <td>DET</td>\n",
       "      <td>body</td>\n",
       "      <td>10972756</td>\n",
       "    </tr>\n",
       "    <tr>\n",
       "      <th>1</th>\n",
       "      <td>2</td>\n",
       "      <td>2018-11-30 17:42:00.000</td>\n",
       "      <td>DET</td>\n",
       "      <td>body</td>\n",
       "      <td>10976411</td>\n",
       "    </tr>\n",
       "    <tr>\n",
       "      <th>2</th>\n",
       "      <td>3</td>\n",
       "      <td>2018-12-05 04:26:35.000</td>\n",
       "      <td>DET</td>\n",
       "      <td>body</td>\n",
       "      <td>10980271</td>\n",
       "    </tr>\n",
       "    <tr>\n",
       "      <th>3</th>\n",
       "      <td>4</td>\n",
       "      <td>2018-12-11 02:38:40.000</td>\n",
       "      <td>DET</td>\n",
       "      <td>body</td>\n",
       "      <td>10983619</td>\n",
       "    </tr>\n",
       "    <tr>\n",
       "      <th>4</th>\n",
       "      <td>5</td>\n",
       "      <td>2018-12-23 23:14:45.000</td>\n",
       "      <td>DET</td>\n",
       "      <td>body</td>\n",
       "      <td>10988734</td>\n",
       "    </tr>\n",
       "  </tbody>\n",
       "</table>\n",
       "</div>"
      ],
      "text/plain": [
       "  Event number           Picked arrival  Tag Arrival type IRIS Event ID\n",
       "0            1  2018-11-18 20:32:00.000  DET         body      10972756\n",
       "1            2  2018-11-30 17:42:00.000  DET         body      10976411\n",
       "2            3  2018-12-05 04:26:35.000  DET         body      10980271\n",
       "3            4  2018-12-11 02:38:40.000  DET         body      10983619\n",
       "4            5  2018-12-23 23:14:45.000  DET         body      10988734"
      ]
     },
     "execution_count": 2,
     "metadata": {},
     "output_type": "execute_result"
    }
   ],
   "source": [
    "def extract_event_info(event):\n",
    "    lines = event.strip().split('\\n')\n",
    "    event_number = int(lines[0])\n",
    "    picked_arrival = re.search(r'Picked arrival: (.+)', event).group(1)\n",
    "    tag = re.search(r'Tag : (.+)', event).group(1)\n",
    "    arrival_type = re.search(r'Arrival type : (.+)', event).group(1)\n",
    "    iris_event_id = re.search(r'IRIS Event ID : (\\d+)', event).group(1)\n",
    "\n",
    "    return [event_number, picked_arrival, tag, arrival_type, iris_event_id]\n",
    "\n",
    "pdf_path = 'Pipatprathanporn+2021-SM1.pdf'\n",
    "\n",
    "info = []\n",
    "# Ouvrir le fichier PDF en mode binaire\n",
    "with open(pdf_path, 'rb') as file:\n",
    "    # Initialiser le lecteur PDF\n",
    "    pdf_reader = PyPDF2.PdfReader(file)\n",
    "\n",
    "    # Parcourir les pages du PDF\n",
    "    for page_num in range(1, len(pdf_reader.pages)):  # Commencer à la deuxième page\n",
    "        # Obtenir le contenu de la page\n",
    "        page = pdf_reader.pages[page_num]\n",
    "        page_content = page.extract_text()\n",
    "\n",
    "        # Extraire la valeur de \"Picked arrival\"\n",
    "        info_event = extract_event_info(page_content)\n",
    "        info.append(info_event)\n",
    "\n",
    "info = np.array(info)\n",
    "df = pd.DataFrame(info, columns=['Event number', 'Picked arrival', 'Tag', 'Arrival type', 'IRIS Event ID'])\n",
    "df.head()"
   ]
  },
  {
   "cell_type": "code",
   "execution_count": 3,
   "metadata": {},
   "outputs": [],
   "source": [
    "df['Picked arrival'] = pd.to_datetime(df['Picked arrival'], format='mixed', errors='coerce')"
   ]
  },
  {
   "cell_type": "code",
   "execution_count": 4,
   "metadata": {},
   "outputs": [],
   "source": [
    "df['file'] = ['vide' for _ in range(len(df))]\n",
    "df['file_start'] = ['vide' for _ in range(len(df))]"
   ]
  },
  {
   "cell_type": "code",
   "execution_count": 5,
   "metadata": {},
   "outputs": [
    {
     "name": "stdout",
     "output_type": "stream",
     "text": [
      "0 / 213\n",
      "10 / 213\n",
      "20 / 213\n",
      "30 / 213\n",
      "40 / 213\n",
      "50 / 213\n",
      "60 / 213\n",
      "70 / 213\n",
      "80 / 213\n",
      "90 / 213\n",
      "100 / 213\n",
      "110 / 213\n",
      "120 / 213\n",
      "130 / 213\n",
      "140 / 213\n",
      "150 / 213\n",
      "160 / 213\n",
      "170 / 213\n",
      "180 / 213\n",
      "190 / 213\n",
      "200 / 213\n",
      "210 / 213\n"
     ]
    }
   ],
   "source": [
    "for i in range(len(df)):\n",
    "    if i%10 == 0:\n",
    "        print(i, '/', len(df))\n",
    "    event_time = df.loc[i,'Picked arrival']\n",
    "    for dossier_actuel, sous_dossiers, fichiers in os.walk('data\\DonneesB23'):\n",
    "        for fichier in fichiers:\n",
    "            if fichier[0] == '2' :\n",
    "                fichier_time = datetime.strptime(fichier[:19], '%Y-%m-%dT%H_%M_%S')\n",
    "                fichier_time = fichier_time.replace(microsecond=0)\n",
    "                if event_time >= fichier_time:\n",
    "                        fs = 40\n",
    "                        path = os.path.join(dossier_actuel, fichier)\n",
    "                        y = np.fromfile(path, dtype=np.int32)\n",
    "                        duree_sigal_s = int(len(y)/fs)\n",
    "                        if (event_time - fichier_time).total_seconds() < duree_sigal_s:\n",
    "                            if df.loc[i,'file'] != 'vide':\n",
    "                                print(\"Attention, deux fichiers pour l'événement {} !\".format(i))\n",
    "                            df.loc[i,'file'] = path\n",
    "                            df.loc[i,'file_start'] = fichier_time\n",
    "                            break\n",
    "                        "
   ]
  },
  {
   "cell_type": "code",
   "execution_count": 6,
   "metadata": {},
   "outputs": [],
   "source": [
    "fichiers = df['file'].to_numpy()"
   ]
  },
  {
   "cell_type": "code",
   "execution_count": 7,
   "metadata": {},
   "outputs": [
    {
     "data": {
      "text/plain": [
       "0.0"
      ]
     },
     "execution_count": 7,
     "metadata": {},
     "output_type": "execute_result"
    }
   ],
   "source": [
    "(fichiers == 'vide').sum()/len(fichiers)\n"
   ]
  },
  {
   "cell_type": "code",
   "execution_count": 8,
   "metadata": {},
   "outputs": [],
   "source": [
    "df.to_csv('info_events.csv', index=False)"
   ]
  },
  {
   "cell_type": "code",
   "execution_count": null,
   "metadata": {},
   "outputs": [],
   "source": []
  }
 ],
 "metadata": {
  "kernelspec": {
   "display_name": "base",
   "language": "python",
   "name": "python3"
  },
  "language_info": {
   "codemirror_mode": {
    "name": "ipython",
    "version": 3
   },
   "file_extension": ".py",
   "mimetype": "text/x-python",
   "name": "python",
   "nbconvert_exporter": "python",
   "pygments_lexer": "ipython3",
   "version": "3.11.5"
  }
 },
 "nbformat": 4,
 "nbformat_minor": 2
}
